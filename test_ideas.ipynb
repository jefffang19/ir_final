{
 "metadata": {
  "language_info": {
   "codemirror_mode": {
    "name": "ipython",
    "version": 3
   },
   "file_extension": ".py",
   "mimetype": "text/x-python",
   "name": "python",
   "nbconvert_exporter": "python",
   "pygments_lexer": "ipython3",
   "version": "3.7.9-final"
  },
  "orig_nbformat": 2,
  "kernelspec": {
   "name": "python3",
   "display_name": "Python 3.7.9 64-bit ('django': conda)",
   "metadata": {
    "interpreter": {
     "hash": "ec74341948cff23e0b6da933de0881d60b3b50b83e7d5d34f43737fa8f768f4a"
    }
   }
  }
 },
 "nbformat": 4,
 "nbformat_minor": 2,
 "cells": [
  {
   "cell_type": "code",
   "execution_count": 1,
   "metadata": {},
   "outputs": [],
   "source": [
    "import os"
   ]
  },
  {
   "source": [
    "# Get every dir's cancer and mi-RNA"
   ],
   "cell_type": "markdown",
   "metadata": {}
  },
  {
   "cell_type": "code",
   "execution_count": 2,
   "metadata": {},
   "outputs": [
    {
     "output_type": "execute_result",
     "data": {
      "text/plain": [
       "['data_Cholangiocarcinoma_miR-21',\n",
       " 'data_Rhabdomyosarcom_miR-1',\n",
       " 'data_Cholangiocarcinoma_miR-26a',\n",
       " 'data_Squamous cell carcinoma_miR-31',\n",
       " 'data_Squamous cell carcinoma_miR-184',\n",
       " 'data_Neuroblastoma_LIN28b',\n",
       " 'data_Multiple myeloma_miR-25',\n",
       " 'data_Neuroblastoma_miR-124',\n",
       " 'data_Chondrosarcoma_miR-141',\n",
       " 'data_Synovial sarcoma_miR-17',\n",
       " 'data_Synovial sarcoma_miR-183',\n",
       " 'data_Chondrosarcoma_miR-181a',\n",
       " 'data_Osteosarcoma_miR-143',\n",
       " 'data_Rhabdomyosarcom_miR-206',\n",
       " 'data_Ewing sarcoma_miR-106a',\n",
       " 'data_Ewing sarcoma_miR-22',\n",
       " 'data_Retinoblastoma_miR-17-92',\n",
       " 'data_Multiple myeloma_miR-15a',\n",
       " 'data_Osteosarcoma_miR-34a']"
      ]
     },
     "metadata": {},
     "execution_count": 2
    }
   ],
   "source": [
    "csv_path = 'data/csv/'\n",
    "\n",
    "csv_dir = os.listdir(csv_path)\n",
    "\n",
    "csv_dir"
   ]
  },
  {
   "cell_type": "code",
   "execution_count": 3,
   "metadata": {},
   "outputs": [
    {
     "output_type": "stream",
     "name": "stdout",
     "text": [
      "cancer: Cholangiocarcinoma\nmi-RNA: miR-21\n\ncancer: Rhabdomyosarcom\nmi-RNA: miR-1\n\ncancer: Cholangiocarcinoma\nmi-RNA: miR-26a\n\ncancer: Squamous cell carcinoma\nmi-RNA: miR-31\n\ncancer: Squamous cell carcinoma\nmi-RNA: miR-184\n\ncancer: Neuroblastoma\nmi-RNA: LIN28b\n\ncancer: Multiple myeloma\nmi-RNA: miR-25\n\ncancer: Neuroblastoma\nmi-RNA: miR-124\n\ncancer: Chondrosarcoma\nmi-RNA: miR-141\n\ncancer: Synovial sarcoma\nmi-RNA: miR-17\n\ncancer: Synovial sarcoma\nmi-RNA: miR-183\n\ncancer: Chondrosarcoma\nmi-RNA: miR-181a\n\ncancer: Osteosarcoma\nmi-RNA: miR-143\n\ncancer: Rhabdomyosarcom\nmi-RNA: miR-206\n\ncancer: Ewing sarcoma\nmi-RNA: miR-106a\n\ncancer: Ewing sarcoma\nmi-RNA: miR-22\n\ncancer: Retinoblastoma\nmi-RNA: miR-17-92\n\ncancer: Multiple myeloma\nmi-RNA: miR-15a\n\ncancer: Osteosarcoma\nmi-RNA: miR-34a\n\n"
     ]
    }
   ],
   "source": [
    "# get cancer and mirna\n",
    "for name in csv_dir:\n",
    "    print('cancer: {}'.format(name.split('_')[1]), end = '\\n')\n",
    "    print('mi-RNA: {}'.format(name.split('_')[2]),end = '\\n\\n' )"
   ]
  },
  {
   "source": [
    "## read csv"
   ],
   "cell_type": "markdown",
   "metadata": {}
  },
  {
   "cell_type": "code",
   "execution_count": 9,
   "metadata": {},
   "outputs": [],
   "source": [
    "import pandas as pd"
   ]
  },
  {
   "cell_type": "code",
   "execution_count": 10,
   "metadata": {
    "tags": []
   },
   "outputs": [
    {
     "output_type": "error",
     "ename": "KeyError",
     "evalue": "'title'",
     "traceback": [
      "\u001b[0;31m---------------------------------------------------------------------------\u001b[0m",
      "\u001b[0;31mKeyError\u001b[0m                                  Traceback (most recent call last)",
      "\u001b[0;32m~/anaconda3/envs/django/lib/python3.7/site-packages/pandas/core/indexes/base.py\u001b[0m in \u001b[0;36mget_loc\u001b[0;34m(self, key, method, tolerance)\u001b[0m\n\u001b[1;32m   2894\u001b[0m             \u001b[0;32mtry\u001b[0m\u001b[0;34m:\u001b[0m\u001b[0;34m\u001b[0m\u001b[0;34m\u001b[0m\u001b[0m\n\u001b[0;32m-> 2895\u001b[0;31m                 \u001b[0;32mreturn\u001b[0m \u001b[0mself\u001b[0m\u001b[0;34m.\u001b[0m\u001b[0m_engine\u001b[0m\u001b[0;34m.\u001b[0m\u001b[0mget_loc\u001b[0m\u001b[0;34m(\u001b[0m\u001b[0mcasted_key\u001b[0m\u001b[0;34m)\u001b[0m\u001b[0;34m\u001b[0m\u001b[0;34m\u001b[0m\u001b[0m\n\u001b[0m\u001b[1;32m   2896\u001b[0m             \u001b[0;32mexcept\u001b[0m \u001b[0mKeyError\u001b[0m \u001b[0;32mas\u001b[0m \u001b[0merr\u001b[0m\u001b[0;34m:\u001b[0m\u001b[0;34m\u001b[0m\u001b[0;34m\u001b[0m\u001b[0m\n",
      "\u001b[0;32mpandas/_libs/index.pyx\u001b[0m in \u001b[0;36mpandas._libs.index.IndexEngine.get_loc\u001b[0;34m()\u001b[0m\n",
      "\u001b[0;32mpandas/_libs/index.pyx\u001b[0m in \u001b[0;36mpandas._libs.index.IndexEngine.get_loc\u001b[0;34m()\u001b[0m\n",
      "\u001b[0;32mpandas/_libs/hashtable_class_helper.pxi\u001b[0m in \u001b[0;36mpandas._libs.hashtable.PyObjectHashTable.get_item\u001b[0;34m()\u001b[0m\n",
      "\u001b[0;32mpandas/_libs/hashtable_class_helper.pxi\u001b[0m in \u001b[0;36mpandas._libs.hashtable.PyObjectHashTable.get_item\u001b[0;34m()\u001b[0m\n",
      "\u001b[0;31mKeyError\u001b[0m: 'title'",
      "\nThe above exception was the direct cause of the following exception:\n",
      "\u001b[0;31mKeyError\u001b[0m                                  Traceback (most recent call last)",
      "\u001b[0;32m<ipython-input-10-f8a02604ecee>\u001b[0m in \u001b[0;36m<module>\u001b[0;34m\u001b[0m\n\u001b[1;32m     12\u001b[0m     \u001b[0;32mfor\u001b[0m \u001b[0m_csv\u001b[0m \u001b[0;32min\u001b[0m \u001b[0mcsvs\u001b[0m\u001b[0;34m:\u001b[0m\u001b[0;34m\u001b[0m\u001b[0;34m\u001b[0m\u001b[0m\n\u001b[1;32m     13\u001b[0m         \u001b[0mdf\u001b[0m \u001b[0;34m=\u001b[0m \u001b[0mpd\u001b[0m\u001b[0;34m.\u001b[0m\u001b[0mread_csv\u001b[0m\u001b[0;34m(\u001b[0m\u001b[0;34m'{}/{}/{}'\u001b[0m\u001b[0;34m.\u001b[0m\u001b[0mformat\u001b[0m\u001b[0;34m(\u001b[0m\u001b[0mcsv_path\u001b[0m\u001b[0;34m,\u001b[0m \u001b[0m_dir\u001b[0m\u001b[0;34m,\u001b[0m \u001b[0m_csv\u001b[0m\u001b[0;34m)\u001b[0m\u001b[0;34m)\u001b[0m\u001b[0;34m\u001b[0m\u001b[0;34m\u001b[0m\u001b[0m\n\u001b[0;32m---> 14\u001b[0;31m         \u001b[0mtitles\u001b[0m \u001b[0;34m=\u001b[0m \u001b[0mlist\u001b[0m\u001b[0;34m(\u001b[0m\u001b[0mdf\u001b[0m\u001b[0;34m[\u001b[0m\u001b[0;34m'title'\u001b[0m\u001b[0;34m]\u001b[0m\u001b[0;34m)\u001b[0m\u001b[0;34m\u001b[0m\u001b[0;34m\u001b[0m\u001b[0m\n\u001b[0m\u001b[1;32m     15\u001b[0m         \u001b[0mabstracts\u001b[0m \u001b[0;34m=\u001b[0m \u001b[0mlist\u001b[0m\u001b[0;34m(\u001b[0m\u001b[0mdf\u001b[0m\u001b[0;34m[\u001b[0m\u001b[0;34m'abstract'\u001b[0m\u001b[0;34m]\u001b[0m\u001b[0;34m)\u001b[0m\u001b[0;34m\u001b[0m\u001b[0;34m\u001b[0m\u001b[0m\n\u001b[1;32m     16\u001b[0m         \u001b[0mjournal\u001b[0m \u001b[0;34m=\u001b[0m \u001b[0mlist\u001b[0m\u001b[0;34m(\u001b[0m\u001b[0mdf\u001b[0m\u001b[0;34m[\u001b[0m\u001b[0;34m'journal'\u001b[0m\u001b[0;34m]\u001b[0m\u001b[0;34m)\u001b[0m\u001b[0;34m\u001b[0m\u001b[0;34m\u001b[0m\u001b[0m\n",
      "\u001b[0;32m~/anaconda3/envs/django/lib/python3.7/site-packages/pandas/core/frame.py\u001b[0m in \u001b[0;36m__getitem__\u001b[0;34m(self, key)\u001b[0m\n\u001b[1;32m   2900\u001b[0m             \u001b[0;32mif\u001b[0m \u001b[0mself\u001b[0m\u001b[0;34m.\u001b[0m\u001b[0mcolumns\u001b[0m\u001b[0;34m.\u001b[0m\u001b[0mnlevels\u001b[0m \u001b[0;34m>\u001b[0m \u001b[0;36m1\u001b[0m\u001b[0;34m:\u001b[0m\u001b[0;34m\u001b[0m\u001b[0;34m\u001b[0m\u001b[0m\n\u001b[1;32m   2901\u001b[0m                 \u001b[0;32mreturn\u001b[0m \u001b[0mself\u001b[0m\u001b[0;34m.\u001b[0m\u001b[0m_getitem_multilevel\u001b[0m\u001b[0;34m(\u001b[0m\u001b[0mkey\u001b[0m\u001b[0;34m)\u001b[0m\u001b[0;34m\u001b[0m\u001b[0;34m\u001b[0m\u001b[0m\n\u001b[0;32m-> 2902\u001b[0;31m             \u001b[0mindexer\u001b[0m \u001b[0;34m=\u001b[0m \u001b[0mself\u001b[0m\u001b[0;34m.\u001b[0m\u001b[0mcolumns\u001b[0m\u001b[0;34m.\u001b[0m\u001b[0mget_loc\u001b[0m\u001b[0;34m(\u001b[0m\u001b[0mkey\u001b[0m\u001b[0;34m)\u001b[0m\u001b[0;34m\u001b[0m\u001b[0;34m\u001b[0m\u001b[0m\n\u001b[0m\u001b[1;32m   2903\u001b[0m             \u001b[0;32mif\u001b[0m \u001b[0mis_integer\u001b[0m\u001b[0;34m(\u001b[0m\u001b[0mindexer\u001b[0m\u001b[0;34m)\u001b[0m\u001b[0;34m:\u001b[0m\u001b[0;34m\u001b[0m\u001b[0;34m\u001b[0m\u001b[0m\n\u001b[1;32m   2904\u001b[0m                 \u001b[0mindexer\u001b[0m \u001b[0;34m=\u001b[0m \u001b[0;34m[\u001b[0m\u001b[0mindexer\u001b[0m\u001b[0;34m]\u001b[0m\u001b[0;34m\u001b[0m\u001b[0;34m\u001b[0m\u001b[0m\n",
      "\u001b[0;32m~/anaconda3/envs/django/lib/python3.7/site-packages/pandas/core/indexes/base.py\u001b[0m in \u001b[0;36mget_loc\u001b[0;34m(self, key, method, tolerance)\u001b[0m\n\u001b[1;32m   2895\u001b[0m                 \u001b[0;32mreturn\u001b[0m \u001b[0mself\u001b[0m\u001b[0;34m.\u001b[0m\u001b[0m_engine\u001b[0m\u001b[0;34m.\u001b[0m\u001b[0mget_loc\u001b[0m\u001b[0;34m(\u001b[0m\u001b[0mcasted_key\u001b[0m\u001b[0;34m)\u001b[0m\u001b[0;34m\u001b[0m\u001b[0;34m\u001b[0m\u001b[0m\n\u001b[1;32m   2896\u001b[0m             \u001b[0;32mexcept\u001b[0m \u001b[0mKeyError\u001b[0m \u001b[0;32mas\u001b[0m \u001b[0merr\u001b[0m\u001b[0;34m:\u001b[0m\u001b[0;34m\u001b[0m\u001b[0;34m\u001b[0m\u001b[0m\n\u001b[0;32m-> 2897\u001b[0;31m                 \u001b[0;32mraise\u001b[0m \u001b[0mKeyError\u001b[0m\u001b[0;34m(\u001b[0m\u001b[0mkey\u001b[0m\u001b[0;34m)\u001b[0m \u001b[0;32mfrom\u001b[0m \u001b[0merr\u001b[0m\u001b[0;34m\u001b[0m\u001b[0;34m\u001b[0m\u001b[0m\n\u001b[0m\u001b[1;32m   2898\u001b[0m \u001b[0;34m\u001b[0m\u001b[0m\n\u001b[1;32m   2899\u001b[0m         \u001b[0;32mif\u001b[0m \u001b[0mtolerance\u001b[0m \u001b[0;32mis\u001b[0m \u001b[0;32mnot\u001b[0m \u001b[0;32mNone\u001b[0m\u001b[0;34m:\u001b[0m\u001b[0;34m\u001b[0m\u001b[0;34m\u001b[0m\u001b[0m\n",
      "\u001b[0;31mKeyError\u001b[0m: 'title'"
     ]
    }
   ],
   "source": [
    "csv_path = 'data/csv/'\n",
    "csv_dir = os.listdir(csv_path)\n",
    "\n",
    "for _dir in csv_dir:\n",
    "    csvs = os.listdir(csv_path + _dir)\n",
    "    \n",
    "    titles = []\n",
    "    abstracts = []\n",
    "    journal = []\n",
    "    impact_factors = []\n",
    "\n",
    "    for _csv in csvs:\n",
    "        df = pd.read_csv('{}/{}/{}'.format(csv_path, _dir, _csv))\n",
    "        titles = list(df['title'])\n",
    "        abstracts = list(df['abstract'])\n",
    "        journal = list(df['journal'])\n",
    "    \n",
    "    print(len(titles), len(abstracts), len(journal), len(impact_factors))"
   ]
  },
  {
   "source": [
    "# split article by sentences"
   ],
   "cell_type": "markdown",
   "metadata": {}
  },
  {
   "cell_type": "code",
   "execution_count": 10,
   "metadata": {},
   "outputs": [],
   "source": [
    "abstarct = 'Fibrosis and cancer represent two major complications of chronic liver disease. MicroRNAs have been implicated in the development of fibrosis and cancer, thus constituting potential therapeutic targets. Here, we investigated the role of microRNA-21 (miR-21), a microRNA that has been implicated in the development of fibrosis in multiple organs and has also been suggested to act as an \"oncomir.\" Accordingly, miR-21 was the microRNA that showed the strongest up-regulation in activated hepatic stellate cells (HSCs) in multiple models of fibrogenesis, with an 8-fold to 24-fold induction compared to quiescent HSCs. However, miR-21 antisense inhibition did not suppress the activation of murine or human HSCs in culture or in liver slices. Moreover, genetic deletion of miR-21 in two independently generated knockout mice or miR-21 antisense inhibition did not alter HSC activation or liver fibrosis in models of toxic and biliary liver injury. Despite a strong up-regulation of miR-21 in injury-associated hepatocellular carcinoma and in cholangiocarcinoma, miR-21 deletion or antisense inhibition did not reduce the development of liver tumors. As inhibition of the most up-regulated microRNA did not affect HSC activation, liver fibrosis, or fibrosis-associated liver cancer, we additionally tested the role of microRNAs in HSCs by HSC-specific Dicer deletion. Although Dicer deletion decreased microRNA expression in HSCs and altered the expression of select genes, it only exerted negligible effects on HSC activation and liver fibrosis. Conclusion: Genetic and pharmacologic manipulation of miR-21 does not inhibit the development of liver fibrosis and liver cancer. Moreover, suppression of microRNA synthesis does not significantly affect HSC phenotype and activation. (Hepatology 2018;67:2414-2429).'"
   ]
  },
  {
   "cell_type": "code",
   "execution_count": 11,
   "metadata": {},
   "outputs": [
    {
     "output_type": "execute_result",
     "data": {
      "text/plain": [
       "['Fibrosis and cancer represent two major complications of chronic liver disease.',\n",
       " 'MicroRNAs have been implicated in the development of fibrosis and cancer, thus constituting potential therapeutic targets.',\n",
       " 'Here, we investigated the role of microRNA-21 (miR-21), a microRNA that has been implicated in the development of fibrosis in multiple organs and has also been suggested to act as an \"oncomir.\"',\n",
       " 'Accordingly, miR-21 was the microRNA that showed the strongest up-regulation in activated hepatic stellate cells (HSCs) in multiple models of fibrogenesis, with an 8-fold to 24-fold induction compared to quiescent HSCs.',\n",
       " 'However, miR-21 antisense inhibition did not suppress the activation of murine or human HSCs in culture or in liver slices.',\n",
       " 'Moreover, genetic deletion of miR-21 in two independently generated knockout mice or miR-21 antisense inhibition did not alter HSC activation or liver fibrosis in models of toxic and biliary liver injury.',\n",
       " 'Despite a strong up-regulation of miR-21 in injury-associated hepatocellular carcinoma and in cholangiocarcinoma, miR-21 deletion or antisense inhibition did not reduce the development of liver tumors.',\n",
       " 'As inhibition of the most up-regulated microRNA did not affect HSC activation, liver fibrosis, or fibrosis-associated liver cancer, we additionally tested the role of microRNAs in HSCs by HSC-specific Dicer deletion.',\n",
       " 'Although Dicer deletion decreased microRNA expression in HSCs and altered the expression of select genes, it only exerted negligible effects on HSC activation and liver fibrosis.',\n",
       " 'Conclusion: Genetic and pharmacologic manipulation of miR-21 does not inhibit the development of liver fibrosis and liver cancer.',\n",
       " 'Moreover, suppression of microRNA synthesis does not significantly affect HSC phenotype and activation.',\n",
       " '(Hepatology 2018;67:2414-2429).']"
      ]
     },
     "metadata": {},
     "execution_count": 11
    }
   ],
   "source": [
    "import nltk\n",
    "\n",
    "sent = nltk.sent_tokenize(abstarct)\n",
    "sent"
   ]
  },
  {
   "cell_type": "code",
   "execution_count": null,
   "metadata": {},
   "outputs": [],
   "source": []
  },
  {
   "source": [
    "# find the sentences containing mi-RNA and Cancer"
   ],
   "cell_type": "markdown",
   "metadata": {}
  },
  {
   "cell_type": "code",
   "execution_count": 12,
   "metadata": {},
   "outputs": [],
   "source": [
    "import re"
   ]
  },
  {
   "cell_type": "code",
   "execution_count": 13,
   "metadata": {},
   "outputs": [
    {
     "output_type": "stream",
     "name": "stdout",
     "text": [
      "Despite a strong up-regulation of miR-21 in injury-associated hepatocellular carcinoma and in cholangiocarcinoma, miR-21 deletion or antisense inhibition did not reduce the development of liver tumors.\n\n"
     ]
    }
   ],
   "source": [
    "miRNA = 'miR-21'\n",
    "cancer = 'Cholangiocarcinoma' # need to convert to lowercase\n",
    "\n",
    "evidence = []\n",
    "\n",
    "cancer = cancer.lower()\n",
    "\n",
    "for i in sent:\n",
    "    a = re.search(miRNA, i) # find mi-RNA\n",
    "    if a != None:\n",
    "        a = re.search(cancer, i) # find cancer\n",
    "        if a != None:\n",
    "            print(i, end = '\\n\\n')\n",
    "            evidence.append(i)"
   ]
  },
  {
   "source": [
    "# find the relation in the sentence"
   ],
   "cell_type": "markdown",
   "metadata": {}
  },
  {
   "cell_type": "code",
   "execution_count": 14,
   "metadata": {},
   "outputs": [],
   "source": [
    "expression_keyword = [\n",
    "    [\"promoted\",\"promotion\",\"promoter\"],\n",
    "    [\"higher expression\",\"expressing\",\"overexpression\",\"overexpressed\"],\n",
    "    [\"lower\",\"poor expression\"],\n",
    "    [\"regulates\",\"regulation\",\"up-regulated\",\"upregulated\",\"upregulation\",\"up-regulation\"],\n",
    "    [\"enhances\",\"enhancing\"],\n",
    "    [\"down-regulated\",\"downregulation\",\"down-regulation\",\" underexpression\"],\n",
    "    [\"suppresses\",\"suppression\",\"suppressed\",\"suppressor\"],\n",
    "    [\"repression\",\" repressing\"],\n",
    "    [\"increased\"],\n",
    "    [\"decreased\"],\n",
    "    [\"carcinogenesis\"],\n",
    "    [\"inhibited\",\"inhibition\",\"inhibitory\"],\n",
    "    [\"interacted\",\"interaction\"],\n",
    "    [\"axis\"],\n",
    "    [\"mediator\",\"mediated\"],\n",
    "    [\"metastasis\"],\n",
    "    [\"target\",\"target gene\"],\n",
    "    [\"oncomir\"],\n",
    "    [\"oncogenes\"],\n",
    "    [\"markers\",\"biomarkers\"],\n",
    "    [\"p53\",\"tumor suppressor\"]\n",
    "]"
   ]
  },
  {
   "cell_type": "code",
   "execution_count": 15,
   "metadata": {},
   "outputs": [
    {
     "output_type": "execute_result",
     "data": {
      "text/plain": [
       "['Despite a strong up-regulation of miR-21 in injury-associated hepatocellular carcinoma and in cholangiocarcinoma, miR-21 deletion or antisense inhibition did not reduce the development of liver tumors.']"
      ]
     },
     "metadata": {},
     "execution_count": 15
    }
   ],
   "source": [
    "evidence"
   ]
  },
  {
   "cell_type": "code",
   "execution_count": 16,
   "metadata": {},
   "outputs": [
    {
     "output_type": "stream",
     "name": "stdout",
     "text": [
      "keyword matched: regulation\nkeyword matched: up-regulation\nkeyword matched: inhibition\n"
     ]
    }
   ],
   "source": [
    "# find evidence with each expression\n",
    "\n",
    "for exp in expression_keyword:\n",
    "    for kywd in exp:\n",
    "        a = re.search(kywd, evidence[0])\n",
    "        if a != None:\n",
    "            print('keyword matched: {}'.format(kywd))"
   ]
  },
  {
   "source": [
    "the top cell case has a problem, which is inhibtion is not expressing relationship between miR-21 and cholangiocarcinoma"
   ],
   "cell_type": "markdown",
   "metadata": {}
  },
  {
   "source": [
    "## try find expression between the cancer and mi-RNA in a sentence\n",
    "cancer-1 ...... regulation ..... mi-RNA"
   ],
   "cell_type": "markdown",
   "metadata": {}
  },
  {
   "cell_type": "code",
   "execution_count": 44,
   "metadata": {},
   "outputs": [
    {
     "output_type": "stream",
     "name": "stdout",
     "text": [
      "keyword matched: regulation\nDespite a strong up-<mark>regulation<mark> of miR-21 in injury-associated hepatocellular carcinoma and in cholangiocarcinoma, miR-21 deletion or antisense inhibition did not reduce the development of liver tumors.\n\n\nkeyword matched: up-regulation\nDespite a strong <mark>up-regulation<mark> of miR-21 in injury-associated hepatocellular carcinoma and in cholangiocarcinoma, miR-21 deletion or antisense inhibition did not reduce the development of liver tumors.\n\n\nkeyword matched: inhibition\nDespite a strong up-regulation of miR-21 in injury-associated hepatocellular carcinoma and in cholangiocarcinoma, miR-21 deletion or antisense <mark>inhibition<mark> did not reduce the development of liver tumors.\n\n\n"
     ]
    }
   ],
   "source": [
    "for exp in expression_keyword:\n",
    "    for kywd in exp:\n",
    "        a = re.search(kywd, evidence[0])\n",
    "        if a != None:\n",
    "            loc = a.end()\n",
    "            print('keyword matched: {}'.format(kywd))\n",
    "            # print sentence with marker\n",
    "            for j, w in enumerate(evidence[0]):\n",
    "                \n",
    "                if(j == a.start() or j == a.end()):\n",
    "                    print('<mark>', end='')\n",
    "                print(w, end = '')\n",
    "            \n",
    "            print('\\n\\n')"
   ]
  },
  {
   "source": [
    "Discussion: should up-regulation and regulate show up twice\n",
    "\n",
    "maybe every group of keyword should have only one match?"
   ],
   "cell_type": "markdown",
   "metadata": {}
  },
  {
   "source": [
    "## Try stem the expression keyword ??"
   ],
   "cell_type": "markdown",
   "metadata": {}
  },
  {
   "cell_type": "code",
   "execution_count": 46,
   "metadata": {},
   "outputs": [],
   "source": [
    "from nltk.stem import PorterStemmer \n",
    "\n",
    "ps = PorterStemmer() "
   ]
  },
  {
   "cell_type": "code",
   "execution_count": 59,
   "metadata": {},
   "outputs": [],
   "source": [
    "stemmed_expression_keyword = []"
   ]
  },
  {
   "cell_type": "code",
   "execution_count": 60,
   "metadata": {},
   "outputs": [
    {
     "output_type": "stream",
     "name": "stdout",
     "text": [
      "original word: promoted\nstemmed word: promot\n\noriginal word: promotion\nstemmed word: promot\n\noriginal word: promoter\nstemmed word: promot\n\noriginal word: higher expression\nstemmed word: higher express\n\noriginal word: expressing\nstemmed word: express\n\noriginal word: overexpression\nstemmed word: overexpress\n\noriginal word: overexpressed\nstemmed word: overexpress\n\noriginal word: lower\nstemmed word: lower\n\noriginal word: poor expression\nstemmed word: poor express\n\noriginal word: regulates\nstemmed word: regul\n\noriginal word: regulation\nstemmed word: regul\n\noriginal word: up-regulated\nstemmed word: up-regul\n\noriginal word: upregulated\nstemmed word: upregul\n\noriginal word: upregulation\nstemmed word: upregul\n\noriginal word: up-regulation\nstemmed word: up-regul\n\noriginal word: enhances\nstemmed word: enhanc\n\noriginal word: enhancing\nstemmed word: enhanc\n\noriginal word: down-regulated\nstemmed word: down-regul\n\noriginal word: downregulation\nstemmed word: downregul\n\noriginal word: down-regulation\nstemmed word: down-regul\n\noriginal word:  underexpression\nstemmed word:  underexpress\n\noriginal word: suppresses\nstemmed word: suppress\n\noriginal word: suppression\nstemmed word: suppress\n\noriginal word: suppressed\nstemmed word: suppress\n\noriginal word: suppressor\nstemmed word: suppressor\n\noriginal word: repression\nstemmed word: repress\n\noriginal word:  repressing\nstemmed word:  repress\n\noriginal word: increased\nstemmed word: increas\n\noriginal word: decreased\nstemmed word: decreas\n\noriginal word: carcinogenesis\nstemmed word: carcinogenesi\n\noriginal word: inhibited\nstemmed word: inhibit\n\noriginal word: inhibition\nstemmed word: inhibit\n\noriginal word: inhibitory\nstemmed word: inhibitori\n\noriginal word: interacted\nstemmed word: interact\n\noriginal word: interaction\nstemmed word: interact\n\noriginal word: axis\nstemmed word: axi\n\noriginal word: mediator\nstemmed word: mediat\n\noriginal word: mediated\nstemmed word: mediat\n\noriginal word: metastasis\nstemmed word: metastasi\n\noriginal word: target\nstemmed word: target\n\noriginal word: target gene\nstemmed word: target gen\n\noriginal word: oncomir\nstemmed word: oncomir\n\noriginal word: oncogenes\nstemmed word: oncogen\n\noriginal word: markers\nstemmed word: marker\n\noriginal word: biomarkers\nstemmed word: biomark\n\noriginal word: p53\nstemmed word: p53\n\noriginal word: tumor suppressor\nstemmed word: tumor suppressor\n\n"
     ]
    }
   ],
   "source": [
    "for exp in expression_keyword:\n",
    "    stemmed_expression_keyword_subgroup = []\n",
    "    for kywd in exp:\n",
    "        print('original word: {}'.format(kywd))\n",
    "        _stem = ps.stem(kywd)\n",
    "        print('stemmed word: {}'.format(_stem), end='\\n\\n')\n",
    "        if _stem not in stemmed_expression_keyword_subgroup:\n",
    "            stemmed_expression_keyword_subgroup.append(_stem)\n",
    "    \n",
    "    stemmed_expression_keyword.append(stemmed_expression_keyword_subgroup)"
   ]
  },
  {
   "cell_type": "code",
   "execution_count": 61,
   "metadata": {},
   "outputs": [
    {
     "output_type": "execute_result",
     "data": {
      "text/plain": [
       "[['promot'],\n",
       " ['higher express', 'express', 'overexpress'],\n",
       " ['lower', 'poor express'],\n",
       " ['regul', 'up-regul', 'upregul'],\n",
       " ['enhanc'],\n",
       " ['down-regul', 'downregul', ' underexpress'],\n",
       " ['suppress', 'suppressor'],\n",
       " ['repress', ' repress'],\n",
       " ['increas'],\n",
       " ['decreas'],\n",
       " ['carcinogenesi'],\n",
       " ['inhibit', 'inhibitori'],\n",
       " ['interact'],\n",
       " ['axi'],\n",
       " ['mediat'],\n",
       " ['metastasi'],\n",
       " ['target', 'target gen'],\n",
       " ['oncomir'],\n",
       " ['oncogen'],\n",
       " ['marker', 'biomark'],\n",
       " ['p53', 'tumor suppressor']]"
      ]
     },
     "metadata": {},
     "execution_count": 61
    }
   ],
   "source": [
    "stemmed_expression_keyword"
   ]
  },
  {
   "source": [
    "discussion: maybe we should only match the longer keyword in a group"
   ],
   "cell_type": "markdown",
   "metadata": {}
  },
  {
   "source": [
    "## Sort each keyword group"
   ],
   "cell_type": "markdown",
   "metadata": {}
  },
  {
   "cell_type": "code",
   "execution_count": 72,
   "metadata": {},
   "outputs": [],
   "source": [
    "sorted_stemmed_expression_keyword = []\n",
    "\n",
    "for exp in expression_keyword:\n",
    "    stemmed_expression_keyword_subgroup = []\n",
    "    for kywd in exp:\n",
    "        _stem = ps.stem(kywd)\n",
    "        if _stem not in stemmed_expression_keyword_subgroup:\n",
    "            stemmed_expression_keyword_subgroup.append(_stem)\n",
    "        \n",
    "        # sort by length\n",
    "        stemmed_expression_keyword_subgroup = sorted(stemmed_expression_keyword_subgroup, key=len, reverse=True)\n",
    "    \n",
    "    sorted_stemmed_expression_keyword.append(stemmed_expression_keyword_subgroup)"
   ]
  },
  {
   "cell_type": "code",
   "execution_count": 73,
   "metadata": {},
   "outputs": [
    {
     "output_type": "execute_result",
     "data": {
      "text/plain": [
       "[['promot'],\n",
       " ['higher express', 'overexpress', 'express'],\n",
       " ['poor express', 'lower'],\n",
       " ['up-regul', 'upregul', 'regul'],\n",
       " ['enhanc'],\n",
       " [' underexpress', 'down-regul', 'downregul'],\n",
       " ['suppressor', 'suppress'],\n",
       " [' repress', 'repress'],\n",
       " ['increas'],\n",
       " ['decreas'],\n",
       " ['carcinogenesi'],\n",
       " ['inhibitori', 'inhibit'],\n",
       " ['interact'],\n",
       " ['axi'],\n",
       " ['mediat'],\n",
       " ['metastasi'],\n",
       " ['target gen', 'target'],\n",
       " ['oncomir'],\n",
       " ['oncogen'],\n",
       " ['biomark', 'marker'],\n",
       " ['tumor suppressor', 'p53']]"
      ]
     },
     "metadata": {},
     "execution_count": 73
    }
   ],
   "source": [
    "sorted_stemmed_expression_keyword"
   ]
  },
  {
   "source": [
    "## Now let's put sorted stem expresion to the test"
   ],
   "cell_type": "markdown",
   "metadata": {}
  },
  {
   "cell_type": "code",
   "execution_count": 82,
   "metadata": {},
   "outputs": [
    {
     "output_type": "stream",
     "name": "stdout",
     "text": [
      "keyword matched: up-regul\ndespite a strong <mark>up-regul<mark>ation of mir-21 in injury-associated hepatocellular carcinoma and in cholangiocarcinoma, mir-21 deletion or antisense inhibition did not reduce the development of liver tumors.\n\n\nkeyword matched: inhibit\ndespite a strong up-regulation of mir-21 in injury-associated hepatocellular carcinoma and in cholangiocarcinoma, mir-21 deletion or antisense <mark>inhibit<mark>ion did not reduce the development of liver tumors.\n\n\n"
     ]
    }
   ],
   "source": [
    "# now when a longer expression in a group matched, break\n",
    "\n",
    "for exp in sorted_stemmed_expression_keyword:\n",
    "    for kywd in exp:\n",
    "        a = re.search(kywd, evid)\n",
    "        if a != None:\n",
    "            loc = a.end()\n",
    "            print('keyword matched: {}'.format(kywd))\n",
    "            # print sentence with marker\n",
    "            for j, w in enumerate(evid):\n",
    "                \n",
    "                if(j == a.start() or j == a.end()):\n",
    "                    print('<mark>', end='')\n",
    "                print(w, end = '')\n",
    "            \n",
    "            print('\\n\\n')\n",
    "        \n",
    "            break"
   ]
  },
  {
   "source": [
    "disccsion: maybe stemming might not be such good idea?"
   ],
   "cell_type": "markdown",
   "metadata": {}
  },
  {
   "source": [
    "## try don't stem only sort"
   ],
   "cell_type": "markdown",
   "metadata": {}
  },
  {
   "cell_type": "code",
   "execution_count": 25,
   "metadata": {},
   "outputs": [
    {
     "output_type": "stream",
     "name": "stdout",
     "text": [
      "keyword matched: up-regulation\nDespite a strong <mark>up-regulation<mark> of miR-21 in injury-associated hepatocellular carcinoma and in cholangiocarcinoma, miR-21 deletion or antisense inhibition did not reduce the development of liver tumors.\n\n\nkeyword matched: inhibition\nDespite a strong up-regulation of miR-21 in injury-associated hepatocellular carcinoma and in cholangiocarcinoma, miR-21 deletion or antisense <mark>inhibition<mark> did not reduce the development of liver tumors.\n\n\n"
     ]
    }
   ],
   "source": [
    "sorted_expression_keyword = []\n",
    "\n",
    "for exp in expression_keyword:\n",
    "    expression_keyword_subgroup = []\n",
    "    for kywd in exp:\n",
    "        if kywd not in expression_keyword_subgroup:\n",
    "            expression_keyword_subgroup.append(kywd)\n",
    "        \n",
    "        # sort by length\n",
    "        expression_keyword_subgroup = sorted(expression_keyword_subgroup, key=len, reverse=True)\n",
    "    \n",
    "    sorted_expression_keyword.append(expression_keyword_subgroup)\n",
    "\n",
    "# now when a longer expression in a group matched, break\n",
    "\n",
    "for exp in sorted_expression_keyword:\n",
    "    for kywd in exp:\n",
    "        a = re.search(kywd, evidence[0])\n",
    "        if a != None:\n",
    "            loc = a.end()\n",
    "            print('keyword matched: {}'.format(kywd))\n",
    "            # print sentence with marker\n",
    "            for j, w in enumerate(evidence[0]):\n",
    "                \n",
    "                if(j == a.start() or j == a.end()):\n",
    "                    print('<mark>', end='')\n",
    "                print(w, end = '')\n",
    "            \n",
    "            print('\\n\\n')\n",
    "        \n",
    "            break"
   ]
  },
  {
   "cell_type": "code",
   "execution_count": null,
   "metadata": {},
   "outputs": [],
   "source": []
  }
 ]
}